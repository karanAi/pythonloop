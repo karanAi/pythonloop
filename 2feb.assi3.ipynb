{
 "cells": [
  {
   "cell_type": "markdown",
   "id": "81466e49-c2b8-4be8-8b57-2ff088557d42",
   "metadata": {},
   "source": [
    "Q1.  Explain with an example each when to use a for loop and a while loop."
   ]
  },
  {
   "cell_type": "markdown",
   "id": "f50b01de-f416-41b0-9e61-39d2a13d01cb",
   "metadata": {},
   "source": [
    " Ans --> The choice between using a for loop and a while loop in Python depends on the problem you are trying to solve.\n",
    "\n",
    "A for loop is used when you want to iterate over a sequence (such as a list, tuple, string, or range) ,\n",
    "and perform the same action for each item in the sequence.\n",
    "The number of iterations is known ahead of time, so it's easy to determine when the loop should end.\n",
    "\n",
    "For example, if you want to print the first 10 natural numbers, you can use a for loop and a range object:"
   ]
  },
  {
   "cell_type": "code",
   "execution_count": 1,
   "id": "2e8a7b54-5824-4684-8c7c-0fb9773ce739",
   "metadata": {},
   "outputs": [
    {
     "name": "stdout",
     "output_type": "stream",
     "text": [
      "1\n",
      "2\n",
      "3\n",
      "4\n",
      "5\n",
      "6\n",
      "7\n",
      "8\n",
      "9\n",
      "10\n"
     ]
    }
   ],
   "source": [
    "for i in range(1, 11):\n",
    "    print(i)\n"
   ]
  },
  {
   "cell_type": "markdown",
   "id": "2c4f5213-2721-4dce-bd8a-8aaa8dc926aa",
   "metadata": {},
   "source": [
    "On the other hand, a while loop is used when you don't know ahead of time how many times you need to repeat the loop.\n",
    "The loop continues until a certain condition is met.\n",
    "\n",
    "For example, if you want to prompt the user to enter a positive number and keep repeating the prompt until they do,\n",
    "you can use a while loop:"
   ]
  },
  {
   "cell_type": "code",
   "execution_count": 2,
   "id": "7ae5fa5b-94fd-484e-9b32-544418866e33",
   "metadata": {},
   "outputs": [
    {
     "name": "stdin",
     "output_type": "stream",
     "text": [
      "Enter a positive number:  10\n"
     ]
    },
    {
     "name": "stdout",
     "output_type": "stream",
     "text": [
      "Thank you for entering a positive number.\n"
     ]
    }
   ],
   "source": [
    "number = int(input(\"Enter a positive number: \"))\n",
    "\n",
    "while number <= 0:\n",
    "    print(\"Invalid input. Please enter a positive number.\")\n",
    "    number = int(input(\"Enter a positive number: \"))\n",
    "\n",
    "print(\"Thank you for entering a positive number.\")\n"
   ]
  },
  {
   "cell_type": "markdown",
   "id": "c42bcdd4-ba8a-43ad-af76-40198d16d39e",
   "metadata": {},
   "source": [
    "\n",
    "\n",
    "\n",
    "Q2.  Write a python program to print the sum and product of the first 10 natural numbers using for \n",
    "and while loop"
   ]
  },
  {
   "cell_type": "code",
   "execution_count": 3,
   "id": "2e00f278-6eff-4893-8e6c-441f8ab6637e",
   "metadata": {},
   "outputs": [
    {
     "name": "stdout",
     "output_type": "stream",
     "text": [
      "The sum of the first 10 natural numbers (using for loop): 55\n",
      "The product of the first 10 natural numbers (using for loop): 3628800\n",
      "The sum of the first 10 natural numbers (using while loop): 55\n",
      "The product of the first 10 natural numbers (using while loop): 3628800\n"
     ]
    }
   ],
   "source": [
    "# using for loop\n",
    "numbers = list(range(1, 11))\n",
    "sum = 0\n",
    "product = 1\n",
    "\n",
    "for number in numbers:\n",
    "    sum += number\n",
    "    product *= number\n",
    "\n",
    "print(\"The sum of the first 10 natural numbers (using for loop):\", sum)\n",
    "print(\"The product of the first 10 natural numbers (using for loop):\", product)\n",
    "\n",
    "# using while loop\n",
    "i = 1\n",
    "sum = 0\n",
    "product = 1\n",
    "\n",
    "while i <= 10:\n",
    "    sum += i\n",
    "    product *= i\n",
    "    i += 1\n",
    "\n",
    "print(\"The sum of the first 10 natural numbers (using while loop):\", sum)\n",
    "print(\"The product of the first 10 natural numbers (using while loop):\", product)\n"
   ]
  },
  {
   "cell_type": "markdown",
   "id": "5b82eb9a-8fa5-497d-8507-9b5c4418ff17",
   "metadata": {},
   "source": [
    "Q3--> Create a python program to compute the electricity bill for a household.\n",
    "The per-unit charges in rupees are as follows: For the first 100 units, the user will be charged Rs. 4.5 per \n",
    "unit, for the next 100 units, the user will be charged Rs. 6 per unit, and for the next 100 units, the user will \n",
    "be charged Rs. 10 per unit, After 300 units and above the user will be charged Rs. 20 per unit.\n",
    "\n",
    "\n",
    "You are required to take the units of electricity consumed in a month from the user as input.\n",
    "\n",
    "\n",
    "Your program must pass this test case: when the unit of electricity consumed by the user in a month is \n",
    "310, the total electricity bill should be 2250."
   ]
  },
  {
   "cell_type": "code",
   "execution_count": 4,
   "id": "c856fa7b-cf57-4a08-a2e1-049d6302fc55",
   "metadata": {},
   "outputs": [
    {
     "name": "stdin",
     "output_type": "stream",
     "text": [
      "Enter the number of units consumed:  310\n"
     ]
    },
    {
     "name": "stdout",
     "output_type": "stream",
     "text": [
      "The total electricity bill is: 2250.0 rupees.\n"
     ]
    }
   ],
   "source": [
    "def calculate_bill(units):\n",
    "    bill = 0\n",
    "    if units <= 100:\n",
    "        bill = units * 4.5\n",
    "    elif units <= 200:\n",
    "        bill = (100 * 4.5) + ((units - 100) * 6)\n",
    "    elif units <= 300:\n",
    "        bill = (100 * 4.5) + (100 * 6) + ((units - 200) * 10)\n",
    "    else:\n",
    "        bill = (100 * 4.5) + (100 * 6) + (100 * 10) + ((units - 300) * 20)\n",
    "    return bill\n",
    "\n",
    "units = int(input(\"Enter the number of units consumed: \"))\n",
    "print(\"The total electricity bill is:\", calculate_bill(units), \"rupees.\")\n"
   ]
  },
  {
   "cell_type": "markdown",
   "id": "42561c8c-ee98-4fa9-a8b0-663d70bb6ae6",
   "metadata": {},
   "source": [
    "Q4. Create a list of numbers from 1 to 100. Use for loop and while loop to calculate the cube of each \n",
    "number and if the cube of that number is divisible by 4 or 5 then append that number in a list and print \n",
    "that list"
   ]
  },
  {
   "cell_type": "code",
   "execution_count": 5,
   "id": "f299074b-931c-4ba5-bb15-6f88490ff726",
   "metadata": {},
   "outputs": [
    {
     "name": "stdout",
     "output_type": "stream",
     "text": [
      "The cubes of numbers which are divisible by 4 or 5 (using for loop): [8, 64, 125, 216, 512, 1000, 1728, 2744, 3375, 4096, 5832, 8000, 10648, 13824, 15625, 17576, 21952, 27000, 32768, 39304, 42875, 46656, 54872, 64000, 74088, 85184, 91125, 97336, 110592, 125000, 140608, 157464, 166375, 175616, 195112, 216000, 238328, 262144, 274625, 287496, 314432, 343000, 373248, 405224, 421875, 438976, 474552, 512000, 551368, 592704, 614125, 636056, 681472, 729000, 778688, 830584, 857375, 884736, 941192, 1000000]\n",
      "The cubes of numbers which are divisible by 4 or 5 (using while loop): [8, 64, 125, 216, 512, 1000, 1728, 2744, 3375, 4096, 5832, 8000, 10648, 13824, 15625, 17576, 21952, 27000, 32768, 39304, 42875, 46656, 54872, 64000, 74088, 85184, 91125, 97336, 110592, 125000, 140608, 157464, 166375, 175616, 195112, 216000, 238328, 262144, 274625, 287496, 314432, 343000, 373248, 405224, 421875, 438976, 474552, 512000, 551368, 592704, 614125, 636056, 681472, 729000, 778688, 830584, 857375, 884736, 941192, 1000000]\n"
     ]
    }
   ],
   "source": [
    "numbers = list(range(1, 101))\n",
    "cubes = []\n",
    "\n",
    "# using for loop\n",
    "for number in numbers:\n",
    "    cube = number ** 3\n",
    "    if cube % 4 == 0 or cube % 5 == 0:\n",
    "        cubes.append(cube)\n",
    "\n",
    "print(\"The cubes of numbers which are divisible by 4 or 5 (using for loop):\", cubes)\n",
    "\n",
    "# using while loop\n",
    "i = 0\n",
    "cubes = []\n",
    "\n",
    "while i < len(numbers):\n",
    "    cube = numbers[i] ** 3\n",
    "    if cube % 4 == 0 or cube % 5 == 0:\n",
    "        cubes.append(cube)\n",
    "    i += 1\n",
    "\n",
    "print(\"The cubes of numbers which are divisible by 4 or 5 (using while loop):\", cubes)\n"
   ]
  },
  {
   "cell_type": "markdown",
   "id": "5f58c8cf-d946-4afa-9810-5daa99c5e742",
   "metadata": {},
   "source": [
    "Q5.  Write a program to filter count vowels in the below-given string.\n",
    "\n",
    "string = \"I want to become a data scientist"
   ]
  },
  {
   "cell_type": "code",
   "execution_count": 6,
   "id": "276c722e-729c-485f-80df-5085df086f0a",
   "metadata": {},
   "outputs": [
    {
     "name": "stdout",
     "output_type": "stream",
     "text": [
      "Number of vowels in the string: 12\n"
     ]
    }
   ],
   "source": [
    "string = \"I want to become a data scientist\"\n",
    "\n",
    "vowels = \"aeiouAEIOU\"\n",
    "count = 0\n",
    "\n",
    "for character in string:\n",
    "    if character in vowels:\n",
    "        count += 1\n",
    "\n",
    "print(\"Number of vowels in the string:\", count)\n"
   ]
  },
  {
   "cell_type": "code",
   "execution_count": null,
   "id": "c50fd742-9649-43e3-bf2f-a069150ac121",
   "metadata": {},
   "outputs": [],
   "source": []
  }
 ],
 "metadata": {
  "kernelspec": {
   "display_name": "Python 3 (ipykernel)",
   "language": "python",
   "name": "python3"
  },
  "language_info": {
   "codemirror_mode": {
    "name": "ipython",
    "version": 3
   },
   "file_extension": ".py",
   "mimetype": "text/x-python",
   "name": "python",
   "nbconvert_exporter": "python",
   "pygments_lexer": "ipython3",
   "version": "3.10.8"
  }
 },
 "nbformat": 4,
 "nbformat_minor": 5
}
